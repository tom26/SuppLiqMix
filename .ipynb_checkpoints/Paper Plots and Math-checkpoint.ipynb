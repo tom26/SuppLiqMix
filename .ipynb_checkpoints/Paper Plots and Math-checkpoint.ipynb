{
 "cells": [
  {
   "cell_type": "markdown",
   "metadata": {},
   "source": [
    "# Suppression of Liquid Mixing in MECS \n",
    "\n",
    "Many mass transfer correlations have been proposed in the literature. Here we compare the following popular correlations:\n",
    "\n",
    "## Onda et al 1968\n",
    "\n",
    "$$\n",
    "k_L=0.0051(a_td_p)^{0.4}\\left(\\frac{\\mu g}{\\rho}\\right)^{1/3}\\left(\\frac{L}{a_w\\mu}\\right)^{2/3} \\left(\\frac{\\mu}{\\rho \\mathcal{D}}\\right)^{-1/2}\n",
    "$$\n",
    "\n",
    "where $g$ is the gravitational constant, $d_p$ is an equivalent packing diameter, defined by $d_p = 6(1-\\varepsilon)/a_t$, $\\varepsilon$ is the voidage in the (dry) column, $L$ is the liquid flow rate per unit area of column, $\\mathcal{D}$ is the diffusivity of the gas in the liquid, $\\rho$ and $\\mu$ are the liquid density and viscosity respectively, and $a_w$ and $a_t$ are the wetted and total packing surface area respectively. These are in turn related by\n",
    "\n",
    "$$\n",
    "\\frac{a_w}{a_t} = 1 - \\exp\\left[-1.45\\left(\\frac{\\sigma_c}{\\sigma}\\right)^{0.75}\\left(\\frac{L}{a_t \\mu}\\right)^{0.1}\\left(\\frac{L^2 a_t}{\\rho g}\\right)^{-0.05}\\left(\\frac{L^2}{\\rho \\sigma a_t}\\right)^{0.2} \\right]\n",
    "$$\n",
    "\n",
    "where $\\sigma_c$ is the critical surface tension of the packing material, and $\\sigma$ is the surface tension of the solvent\n",
    "\n",
    "## Shulman et al 1955\n",
    "\n",
    "\n",
    "$$\n",
    "\\frac{k_L d_s}{\\mathcal{D}} =25.1 \\left(\\frac{d_sL}{\\mu}\\right)^{0.45}\\left(\\frac{\\mu}{\\rho\\mathcal{D}}\\right)^{0.5}\n",
    "$$\n",
    "\n",
    "where $d_s$ is the diameter of a sphere with the same surface area as the packing, $L$ is the liquid flow rate per unit area of column, $\\mathcal{D}$ is the diffusivity of the gas in the liquid, and $\\rho$ and $\\mu$ are the liquid density and viscosity respectively. The effecgive surface area was presented graphically by Shulman et al (1955) and was fitted by Treyball to the following correlation:\n",
    "\n",
    "$$\n",
    "a = d\\left[\\frac{808G}{\\sqrt{\\rho_G}}\\right]^q L^h\n",
    "$$\n",
    "\n",
    "where $G$ is the gas flux through the column and $\\rho_G$ is the gas density (note that this equation is dimensional, and will only be accurate in SI units.)\n",
    "\n",
    "## Billet and Schultes\n",
    "\n",
    "$$\n",
    "k_L = C_L \\left(\\frac{\\rho g}{\\mu}\\right)^{1/6}\\left(\\frac{\\mathcal{D}}{d_h}\\right)^{1/2}\\left(\\frac{L}{\\rho a_t}\\right)^{1/3}\n",
    "$$\n",
    "\n",
    "where $C_L$ is a packing dependent constant and $d_h$ is the hydraulic diameter of the packing, defined by $4\\varepsilon/a_t$. They combine this with a correlation for mass transfer area:\n",
    "\n",
    "$$\n",
    "1.5(a_td_h)^{-0.5}\\left(\\frac{Ld_h}{\\mu}\\right)^{-0.2}\\left(\\frac{L^2d_h}{\\sigma\\rho}\\right)^{0.75}\\left(\\frac{L^2}{gd_h\\rho^2}\\right)^{-0.45}\n",
    "$$\n",
    "\n",
    "\n",
    "\n"
   ]
  },
  {
   "cell_type": "code",
   "execution_count": 1,
   "metadata": {
    "collapsed": true
   },
   "outputs": [],
   "source": [
    "using Plots"
   ]
  },
  {
   "cell_type": "code",
   "execution_count": null,
   "metadata": {
    "collapsed": true
   },
   "outputs": [],
   "source": []
  }
 ],
 "metadata": {
  "kernelspec": {
   "display_name": "Julia 0.5.1",
   "language": "julia",
   "name": "julia-0.5"
  },
  "language_info": {
   "file_extension": ".jl",
   "mimetype": "application/julia",
   "name": "julia",
   "version": "0.5.1"
  }
 },
 "nbformat": 4,
 "nbformat_minor": 2
}
